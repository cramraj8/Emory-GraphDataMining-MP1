{
 "cells": [
  {
   "cell_type": "code",
   "execution_count": 2,
   "metadata": {},
   "outputs": [],
   "source": [
    "import json\n",
    "import os\n",
    "import networkx as nx\n",
    "import matplotlib.pyplot as plt\n",
    "import scipy\n",
    "%matplotlib inline"
   ]
  },
  {
   "cell_type": "code",
   "execution_count": 3,
   "metadata": {},
   "outputs": [],
   "source": [
    "SRC_OBJ_FILE = \"../MP1-assignment-PyCharm/VisualGenome-data/objects.json\"\n",
    "SRC_REL_FILE = \"../MP1-assignment-PyCharm/VisualGenome-data/relationships.json\"\n",
    "SRC_OBJ_ALIAS_FILE = \"../MP1-assignment-PyCharm/VisualGenome-data/object_alias.txt\"\n",
    "SRC_REL_ALIAS_FILE = \"../MP1-assignment-PyCharm/VisualGenome-data/relationship_alias.txt\"\n",
    "DEBUG_ = False"
   ]
  },
  {
   "cell_type": "code",
   "execution_count": 4,
   "metadata": {},
   "outputs": [],
   "source": [
    "def construct_object_alias_dict_map():\n",
    "    alias_data = open(SRC_OBJ_ALIAS_FILE, 'r')\n",
    "    output_map = {}\n",
    "    for alias_line in alias_data:\n",
    "        tmp_list = alias_line.split(\",\")\n",
    "        tmp_src = tmp_list[0]\n",
    "        tmp_targets = tmp_list[1:]\n",
    "        for tmp_target in tmp_targets:\n",
    "            output_map[tmp_target] = tmp_src\n",
    "    return output_map"
   ]
  },
  {
   "cell_type": "code",
   "execution_count": 5,
   "metadata": {},
   "outputs": [],
   "source": [
    "def construct_relationships_alias_dict_map():\n",
    "    alias_data = open(SRC_REL_ALIAS_FILE, 'r')\n",
    "    output_map = {}\n",
    "    for alias_line in alias_data:\n",
    "        tmp_list = alias_line.split(\",\")\n",
    "        tmp_src = tmp_list[0]\n",
    "        tmp_targets = tmp_list[1:]\n",
    "        for tmp_target in tmp_targets:\n",
    "            output_map[tmp_target] = tmp_src\n",
    "    return output_map"
   ]
  },
  {
   "cell_type": "code",
   "execution_count": null,
   "metadata": {
    "scrolled": false
   },
   "outputs": [],
   "source": [
    "G = nx.Graph()\n",
    "\n",
    "object_alias_map = construct_object_alias_dict_map()\n",
    "rel_alias_map = construct_relationships_alias_dict_map()\n",
    "\n",
    "data = json.load(open(SRC_REL_FILE, 'r'))  # 10,000\n",
    "n_data = len(data)\n",
    "print(\"No. images : \", n_data)\n",
    "for image_idx, image in enumerate(data):\n",
    "    tmp_img_rel = image['relationships']\n",
    "    for rel_idx, rel in enumerate(tmp_img_rel):\n",
    "        # primary types\n",
    "        tmp_rel_id = rel['relationship_id']\n",
    "        tmp_synsets_detailed_rel = rel['synsets']\n",
    "        tmp_predicate = rel['predicate']\n",
    "        tmp_object = rel['object']\n",
    "        tmp_subject = rel['subject']\n",
    "\n",
    "        # object type\n",
    "        tmp_object_id = tmp_object['object_id']\n",
    "        tmp_object_synsets_detailed_obj = tmp_object['synsets']\n",
    "        # tmp_object_merged_object_ids = tmp_object.get('merged_object_ids', \"\")  # maybe linked mention ???\n",
    "        # tmp_object_names = tmp_object['names']  # difference between 'name' and 'names'\n",
    "        if tmp_object.get('names', \"\") != \"\":\n",
    "            tmp_object_names = tmp_object['names']\n",
    "        else:\n",
    "            tmp_object_names = tmp_object['name']\n",
    "        if (type(tmp_object_names) == list) and (len(tmp_object_names) > 1):\n",
    "            print(\"object found as list with len : \", len(tmp_object_names))\n",
    "        elif type(tmp_object_names) == list:\n",
    "            tmp_object_name = tmp_object_names[0]\n",
    "\n",
    "        # subject type\n",
    "        tmp_subject_id = tmp_subject['object_id']\n",
    "        tmp_subject_synsets_detailed_obj = tmp_subject['synsets']  # why sometimes synsets are empty list\n",
    "        if tmp_subject.get('name', \"\") != \"\":\n",
    "            tmp_subject_name = tmp_subject['name']\n",
    "        else:\n",
    "            tmp_subject_name = tmp_subject['names']\n",
    "        if (type(tmp_subject_name) == list) and (len(tmp_subject_name) > 1):\n",
    "            print(\"subject found as list with len : \", len(tmp_subject_name))\n",
    "        elif type(tmp_subject_name) == list:\n",
    "            tmp_subject_name = tmp_subject_name[0]\n",
    "\n",
    "        # Adding nodes to graph\n",
    "        if tmp_subject_name in object_alias_map.keys():\n",
    "            # print(\"Found synonym for object name\")\n",
    "            tmp_subject_name = object_alias_map[tmp_subject_name]\n",
    "        if tmp_object_name in object_alias_map.keys():\n",
    "            # print(\"Found synonym for object name\")\n",
    "            tmp_object_name = object_alias_map[tmp_object_name]\n",
    "        G.add_node(tmp_subject_name, id=tmp_subject_id, synsets=tmp_subject_synsets_detailed_obj)\n",
    "        G.add_node(tmp_object_name, id=tmp_object_id, synsets=tmp_object_synsets_detailed_obj)\n",
    "        # Adding edges to graph : this should actually be a DI-GRAPH\n",
    "        if tmp_predicate in rel_alias_map.keys():\n",
    "            tmp_predicate = rel_alias_map[tmp_predicate]\n",
    "        G.add_edge(tmp_subject_name, tmp_object_name, id=tmp_rel_id, synsets=tmp_synsets_detailed_rel,\n",
    "                       predicate=tmp_predicate)\n",
    "        \n",
    "    if image_idx % 1000 == 0:\n",
    "        print(\"finished loading image : {} / {}\".format(image_idx + 1, n_data))\n",
    "        \n",
    "#     if image_idx == 10:\n",
    "#         break\n",
    "\n",
    "#         if rel_idx == 0:\n",
    "#             # nx.draw(G, with_labels=True, font_weight='bold')\n",
    "#             nx.draw_networkx(G, pos=nx.spring_layout(G), node_size=100, node_color='r', node_shape='o', alpha=0.5,\n",
    "#                              linewidths=1.0, width=1.0,\n",
    "#                              )\n",
    "#             # plt.savefig(\"sample_image_SceneGraph.svg\")\n",
    "#             plt.show()"
   ]
  },
  {
   "cell_type": "markdown",
   "metadata": {},
   "source": [
    "# 2. Analysis"
   ]
  },
  {
   "cell_type": "code",
   "execution_count": 6,
   "metadata": {},
   "outputs": [],
   "source": [
    "from operator import itemgetter\n",
    "import networkx as nx\n",
    "from networkx.algorithms import community #This part of networkx, for community detection, needs to be imported separately."
   ]
  },
  {
   "cell_type": "code",
   "execution_count": 7,
   "metadata": {},
   "outputs": [
    {
     "name": "stdout",
     "output_type": "stream",
     "text": [
      "Name: \n",
      "Type: Graph\n",
      "Number of nodes: 132\n",
      "Number of edges: 216\n",
      "Average degree:   3.2727\n"
     ]
    }
   ],
   "source": [
    "print(nx.info(G))"
   ]
  },
  {
   "cell_type": "code",
   "execution_count": 8,
   "metadata": {},
   "outputs": [
    {
     "name": "stdout",
     "output_type": "stream",
     "text": [
      "Network density: 0.02498265093684941\n"
     ]
    }
   ],
   "source": [
    "density = nx.density(G)\n",
    "print(\"Network density:\", density)\n",
    "\n",
    "\"\"\"\n",
    "This is simply the ratio of actual edges in the network to all possible edges in the network. \n",
    "Network density gives you a quick sense of how closely knit your network is.\n",
    "\"\"\""
   ]
  },
  {
   "cell_type": "code",
   "execution_count": 10,
   "metadata": {},
   "outputs": [
    {
     "data": {
      "text/plain": [
       "NodeView(('shade', 'sidewalk', 'man', 'shoes', 'car', 'sign', 'tree trunk', 'parking meter', 'bike', 'van', 'shirt', 'lamp post', 'street', 'tree', 'building', 'crosswalk', 'walk sign', 'keyboard', 'computer tower', 'filing cabinet', 'mouse', 'wireless phone', 'telephone', 'pluged', 'outlet', 'girl', 'computer', 'plug', 'pen', 'cable', 'wall', 'bag', 'woman', 'hair', 'partition', 'picture', 'photo', 'chain', 'chair', 'carpet', 'pillow', 'teddy bear', 'animal', 'table top', 'futon', 'door', 'doll', 'lamp', 'book', 'printer', 'railing', 'computer monitor', 'fax machine', 'cork-board', 'paper', 'air conditioner', 'shelf', 'room', 'clothes', 'heater', 'apple', 'sports bottle', 'milk', 'glass', 'top', 'water bottle', 'drawer', 'fork', 'liquid', 'bar stool', 'bowl', 'pan', 'food', 'container', 'leg', 'crumb', 'bottle', 'juice bottle', 'sticky note', 'white board', 'headphones', 'papers', 'cpu', 'bracelet', 'wrist pad', 'cd player', 'cereal', 'monitor', 'mug', 'laptop', 'tape dispenser', 'calculator', 'cd', 'coffee mug', 'hand', 'dish', 'boy', 'stapler', 'photograph', 'drawers', 'cup', 'bulletin board', 'files', 'folder', 'guy', 'mouse pad', 'window', 'blinds', 'posters', 'light', 'bin', 'baby', 'tower', 'corkboard', 'tube', 'charger', 'coat', 'board', 'jacket', 'bookshelf', 'wires', 'ostirch', 'panes', 'box', 'sun', 'carton', 'pot', 'plant', 'clothing', 'plate', 'table', 'lint'))"
      ]
     },
     "execution_count": 10,
     "metadata": {},
     "output_type": "execute_result"
    }
   ],
   "source": [
    "G.nodes()"
   ]
  },
  {
   "cell_type": "code",
   "execution_count": 12,
   "metadata": {},
   "outputs": [
    {
     "name": "stdout",
     "output_type": "stream",
     "text": [
      "Shortest path between picture and paper: ['picture', 'coffee mug', 'keyboard', 'paper']\n"
     ]
    }
   ],
   "source": [
    "fell_whitehead_path = nx.shortest_path(G, source=\"picture\", target=\"paper\")\n",
    "\n",
    "print(\"Shortest path between picture and paper:\", fell_whitehead_path)\n",
    "print(\"Length of that path:\", len(fell_whitehead_path)-1)"
   ]
  },
  {
   "cell_type": "code",
   "execution_count": 14,
   "metadata": {},
   "outputs": [],
   "source": [
    "### Diameter"
   ]
  },
  {
   "cell_type": "code",
   "execution_count": 13,
   "metadata": {},
   "outputs": [
    {
     "name": "stdout",
     "output_type": "stream",
     "text": [
      "True\n"
     ]
    }
   ],
   "source": [
    "# If your Graph has more than one component, this will return False:\n",
    "print(nx.is_connected(G))"
   ]
  },
  {
   "cell_type": "code",
   "execution_count": 16,
   "metadata": {},
   "outputs": [
    {
     "name": "stdout",
     "output_type": "stream",
     "text": [
      "<generator object connected_components at 0x12110b740>\n",
      "{'bag', 'cd player', 'apple', 'water bottle', 'air conditioner', 'boy', 'teddy bear', 'lint', 'pen', 'charger', 'sun', 'photograph', 'tape dispenser', 'pot', 'chair', 'coat', 'blinds', 'plate', 'bulletin board', 'tower', 'drawer', 'clothing', 'shade', 'cup', 'panes', 'van', 'posters', 'book', 'filing cabinet', 'carton', 'shirt', 'plant', 'chain', 'tree', 'cork-board', 'jacket', 'light', 'guy', 'baby', 'wires', 'picture', 'doll', 'man', 'liquid', 'fax machine', 'bottle', 'window', 'drawers', 'board', 'box', 'car', 'sidewalk', 'container', 'computer tower', 'sticky note', 'cpu', 'partition', 'folder', 'girl', 'hand', 'headphones', 'food', 'milk', 'walk sign', 'bowl', 'top', 'tree trunk', 'cable', 'cereal', 'crosswalk', 'mouse', 'computer monitor', 'pan', 'tube', 'glass', 'crumb', 'calculator', 'printer', 'door', 'animal', 'mug', 'railing', 'juice bottle', 'futon', 'keyboard', 'street', 'lamp post', 'paper', 'corkboard', 'outlet', 'bike', 'telephone', 'monitor', 'room', 'sports bottle', 'photo', 'papers', 'computer', 'bracelet', 'woman', 'files', 'ostirch', 'parking meter', 'shelf', 'building', 'clothes', 'dish', 'carpet', 'white board', 'cd', 'table', 'bar stool', 'heater', 'sign', 'pluged', 'laptop', 'stapler', 'table top', 'pillow', 'wireless phone', 'bin', 'wall', 'coffee mug', 'leg', 'bookshelf', 'lamp', 'fork', 'wrist pad', 'hair', 'mouse pad', 'shoes', 'plug'}\n"
     ]
    }
   ],
   "source": [
    "# Next, use nx.connected_components to get the list of components,\n",
    "# then use the max() command to find the largest one:\n",
    "components = nx.connected_components(G)\n",
    "largest_component = max(components, key=len)\n",
    "print(components)\n",
    "print(largest_component)"
   ]
  },
  {
   "cell_type": "code",
   "execution_count": 17,
   "metadata": {},
   "outputs": [
    {
     "name": "stdout",
     "output_type": "stream",
     "text": [
      "Network diameter of largest component: 7\n"
     ]
    }
   ],
   "source": [
    "# Create a \"subgraph\" of just the largest component\n",
    "# Then calculate the diameter of the subgraph, just like you did with density.\n",
    "#\n",
    "\n",
    "subgraph = G.subgraph(largest_component)\n",
    "diameter = nx.diameter(subgraph)\n",
    "print(\"Network diameter of largest component:\", diameter)"
   ]
  },
  {
   "cell_type": "code",
   "execution_count": 18,
   "metadata": {},
   "outputs": [],
   "source": [
    "### triadic closure"
   ]
  },
  {
   "cell_type": "code",
   "execution_count": 20,
   "metadata": {},
   "outputs": [
    {
     "name": "stdout",
     "output_type": "stream",
     "text": [
      "Triadic closure: 0.03387096774193549\n"
     ]
    }
   ],
   "source": [
    "triadic_closure = nx.transitivity(G)\n",
    "print(\"Triadic closure:\", triadic_closure)\n",
    "\n",
    "\"\"\"\n",
    "Transitivity is the ratio of all triangles over all possible triangles.\n",
    "So transitivity, like density, expresses how interconnected a graph is in terms of a \n",
    "    ratio of actual over possible connections\n",
    "Transitivity allows you a way of thinking about all the relationships in your graph that may exist but currently do not.\n",
    "\n",
    "\"\"\""
   ]
  },
  {
   "cell_type": "code",
   "execution_count": 21,
   "metadata": {},
   "outputs": [],
   "source": [
    "# densite < triadic_closure:\n",
    "#     reason:\n",
    "#         Because the graph is not very dense, there are fewer possible triangles to begin with, \n",
    "#         which may result in slightly higher transitivity.\n"
   ]
  },
  {
   "cell_type": "code",
   "execution_count": 22,
   "metadata": {},
   "outputs": [],
   "source": [
    "### Centrality - Which nodes are the most important?"
   ]
  },
  {
   "cell_type": "code",
   "execution_count": 23,
   "metadata": {},
   "outputs": [],
   "source": [
    "degree_dict = dict(G.degree(G.nodes()))\n",
    "nx.set_node_attributes(G, degree_dict, 'degree')"
   ]
  },
  {
   "cell_type": "code",
   "execution_count": 24,
   "metadata": {},
   "outputs": [
    {
     "name": "stdout",
     "output_type": "stream",
     "text": [
      "{'id': 1060414, 'synsets': ['watchband.n.01'], 'degree': 1}\n"
     ]
    }
   ],
   "source": [
    "print(G.nodes['bracelet'])"
   ]
  },
  {
   "cell_type": "code",
   "execution_count": 25,
   "metadata": {},
   "outputs": [],
   "source": [
    "sorted_degree = sorted(degree_dict.items(), key=itemgetter(1), reverse=True)"
   ]
  },
  {
   "cell_type": "code",
   "execution_count": 26,
   "metadata": {},
   "outputs": [
    {
     "name": "stdout",
     "output_type": "stream",
     "text": [
      "Top 20 nodes by degree:\n",
      "('coffee mug', 50)\n",
      "('railing', 43)\n",
      "('keyboard', 29)\n",
      "('laptop', 29)\n",
      "('computer', 13)\n",
      "('table', 12)\n",
      "('shoes', 9)\n",
      "('street', 9)\n",
      "('telephone', 9)\n",
      "('mouse', 8)\n",
      "('hair', 8)\n",
      "('computer tower', 6)\n",
      "('filing cabinet', 6)\n",
      "('cable', 6)\n",
      "('sun', 6)\n",
      "('plant', 6)\n",
      "('walk sign', 5)\n",
      "('chair', 5)\n",
      "('man', 4)\n",
      "('outlet', 4)\n"
     ]
    }
   ],
   "source": [
    "print(\"Top 20 nodes by degree:\")\n",
    "for d in sorted_degree[:20]:\n",
    "    print(d)"
   ]
  },
  {
   "cell_type": "code",
   "execution_count": 27,
   "metadata": {},
   "outputs": [],
   "source": [
    "betweenness_dict = nx.betweenness_centrality(G) # Run betweenness centrality\n",
    "eigenvector_dict = nx.eigenvector_centrality(G) # Run eigenvector centrality\n",
    "\n",
    "# Assign each to an attribute in your network\n",
    "nx.set_node_attributes(G, betweenness_dict, 'betweenness')\n",
    "nx.set_node_attributes(G, eigenvector_dict, 'eigenvector')"
   ]
  },
  {
   "cell_type": "code",
   "execution_count": 28,
   "metadata": {},
   "outputs": [
    {
     "name": "stdout",
     "output_type": "stream",
     "text": [
      "Top 20 nodes by betweenness centrality:\n",
      "('coffee mug', 0.4815058290799493)\n",
      "('railing', 0.3161342022095898)\n",
      "('keyboard', 0.2355541471565764)\n",
      "('laptop', 0.19057144303129372)\n",
      "('man', 0.18584924401829087)\n",
      "('shoes', 0.1014678684149872)\n",
      "('street', 0.07868810833752637)\n",
      "('computer', 0.07300222206585866)\n",
      "('mouse', 0.061438057150878064)\n",
      "('telephone', 0.04785840081930871)\n",
      "('table', 0.0360768019413578)\n",
      "('plant', 0.03439118271179342)\n",
      "('sun', 0.03273851465138916)\n",
      "('hair', 0.031999936099699165)\n",
      "('chair', 0.029353420594768972)\n",
      "('cable', 0.028971705331871787)\n",
      "('computer tower', 0.023577808841622968)\n",
      "('sidewalk', 0.015267175572519083)\n",
      "('girl', 0.015267175572519083)\n",
      "('cup', 0.012770365087303474)\n"
     ]
    }
   ],
   "source": [
    "sorted_betweenness = sorted(betweenness_dict.items(), key=itemgetter(1), reverse=True)\n",
    "\n",
    "print(\"Top 20 nodes by betweenness centrality:\")\n",
    "for b in sorted_betweenness[:20]:\n",
    "    print(b)"
   ]
  },
  {
   "cell_type": "code",
   "execution_count": 29,
   "metadata": {},
   "outputs": [
    {
     "name": "stdout",
     "output_type": "stream",
     "text": [
      "Top 20 nodes by eigenvector centrality:\n",
      "('coffee mug', 0.47073664518445407)\n",
      "('railing', 0.35685427063487696)\n",
      "('laptop', 0.30361117926051573)\n",
      "('keyboard', 0.2905663521341458)\n",
      "('computer', 0.17713248226199577)\n",
      "('cable', 0.17212134480128086)\n",
      "('mouse', 0.16073463527867052)\n",
      "('telephone', 0.13426105082219264)\n",
      "('chair', 0.1316509343852216)\n",
      "('water bottle', 0.11683991659427549)\n",
      "('headphones', 0.11683991659427549)\n",
      "('book', 0.11549227289932651)\n",
      "('computer tower', 0.11413818897902082)\n",
      "('table', 0.11373240567273592)\n",
      "('woman', 0.10520474786855451)\n",
      "('bag', 0.09826145831196297)\n",
      "('monitor', 0.09722782129527271)\n",
      "('cup', 0.09613922108633503)\n",
      "('pen', 0.09348842889578991)\n",
      "('picture', 0.08695482131354534)\n"
     ]
    }
   ],
   "source": [
    "sorted_eigenvector = sorted(eigenvector_dict.items(), key=itemgetter(1), reverse=True)\n",
    "\n",
    "print(\"Top 20 nodes by eigenvector centrality:\")\n",
    "for b in sorted_eigenvector[:20]:\n",
    "    print(b)"
   ]
  },
  {
   "cell_type": "code",
   "execution_count": 30,
   "metadata": {},
   "outputs": [],
   "source": [
    "# You’ll notice that many, but not all, \n",
    "# of the nodes that have high degree also have high betweenness centrality."
   ]
  },
  {
   "cell_type": "code",
   "execution_count": 33,
   "metadata": {},
   "outputs": [
    {
     "name": "stdout",
     "output_type": "stream",
     "text": [
      "Name: coffee mug \t| Betweenness Centrality: 0.4815058290799493 \t| Degree: 50\n",
      "Name: railing \t| Betweenness Centrality: 0.3161342022095898 \t| Degree: 43\n",
      "Name: keyboard \t| Betweenness Centrality: 0.2355541471565764 \t| Degree: 29\n",
      "Name: laptop \t| Betweenness Centrality: 0.19057144303129372 \t| Degree: 29\n",
      "Name: man \t| Betweenness Centrality: 0.18584924401829087 \t| Degree: 4\n",
      "Name: shoes \t| Betweenness Centrality: 0.1014678684149872 \t| Degree: 9\n",
      "Name: street \t| Betweenness Centrality: 0.07868810833752637 \t| Degree: 9\n",
      "Name: computer \t| Betweenness Centrality: 0.07300222206585866 \t| Degree: 13\n",
      "Name: mouse \t| Betweenness Centrality: 0.061438057150878064 \t| Degree: 8\n",
      "Name: telephone \t| Betweenness Centrality: 0.04785840081930871 \t| Degree: 9\n",
      "Name: table \t| Betweenness Centrality: 0.0360768019413578 \t| Degree: 12\n",
      "Name: plant \t| Betweenness Centrality: 0.03439118271179342 \t| Degree: 6\n",
      "Name: sun \t| Betweenness Centrality: 0.03273851465138916 \t| Degree: 6\n",
      "Name: hair \t| Betweenness Centrality: 0.031999936099699165 \t| Degree: 8\n",
      "Name: chair \t| Betweenness Centrality: 0.029353420594768972 \t| Degree: 5\n",
      "Name: cable \t| Betweenness Centrality: 0.028971705331871787 \t| Degree: 6\n",
      "Name: computer tower \t| Betweenness Centrality: 0.023577808841622968 \t| Degree: 6\n",
      "Name: sidewalk \t| Betweenness Centrality: 0.015267175572519083 \t| Degree: 2\n",
      "Name: girl \t| Betweenness Centrality: 0.015267175572519083 \t| Degree: 2\n",
      "Name: cup \t| Betweenness Centrality: 0.012770365087303474 \t| Degree: 4\n"
     ]
    }
   ],
   "source": [
    "#First get the top 20 nodes by betweenness as a list\n",
    "top_betweenness = sorted_betweenness[:20]\n",
    "\n",
    "#Then find and print their degree\n",
    "for tb in top_betweenness: # Loop through top_betweenness\n",
    "    degree = degree_dict[tb[0]] # Use degree_dict to access a node's degree, see footnote 2\n",
    "    print(\"Name:\", tb[0], \"\\t| Betweenness Centrality:\", tb[1], \"\\t| Degree:\", degree)"
   ]
  },
  {
   "cell_type": "code",
   "execution_count": 34,
   "metadata": {},
   "outputs": [],
   "source": [
    "### Community detection with modularity"
   ]
  },
  {
   "cell_type": "code",
   "execution_count": 35,
   "metadata": {},
   "outputs": [],
   "source": [
    "# what the subgroups or communities are within the larger social structure.\n",
    "# Modularity is a measure of relative density in your network: a community \n",
    "#     (called a module or modularity class) has high density relative to other nodes \n",
    "#     within its module but low density with those outside. \n",
    "# Modularity gives you an overall score of how fractious your network is, and that \n",
    "#     score can be used to partition the network and return the individual communities\n",
    "# Very dense networks are often more difficult to split into sensible partition"
   ]
  },
  {
   "cell_type": "code",
   "execution_count": 36,
   "metadata": {},
   "outputs": [],
   "source": [
    "# Degree Rank Code i\n",
    "\n",
    "# e some built-in approaches to community detection (like minimum cut, but modularity is not included with NetworkX."
   ]
  },
  {
   "cell_type": "code",
   "execution_count": 37,
   "metadata": {},
   "outputs": [],
   "source": [
    "communities = community.greedy_modularity_communities(G)"
   ]
  },
  {
   "cell_type": "code",
   "execution_count": 38,
   "metadata": {},
   "outputs": [],
   "source": [
    "modularity_dict = {} # Create a blank dictionary\n",
    "for i,c in enumerate(communities): # Loop through the list of communities, keeping track of the number for the community\n",
    "    for name in c: # Loop through each person in a community\n",
    "        modularity_dict[name] = i # Create an entry in the dictionary for the person, where the value is which group they belong to.\n",
    "\n",
    "# Now you can add modularity information like we did the other metrics\n",
    "nx.set_node_attributes(G, modularity_dict, 'modularity')"
   ]
  },
  {
   "cell_type": "code",
   "execution_count": 39,
   "metadata": {},
   "outputs": [
    {
     "name": "stdout",
     "output_type": "stream",
     "text": [
      "Modularity Class 0 Sorted by Eigenvector Centrality:\n",
      "Name: railing | Eigenvector Centrality: 0.35685427063487696\n",
      "Name: water bottle | Eigenvector Centrality: 0.11683991659427549\n",
      "Name: headphones | Eigenvector Centrality: 0.11683991659427549\n",
      "Name: bottle | Eigenvector Centrality: 0.08548053016599425\n",
      "Name: papers | Eigenvector Centrality: 0.08548053016599425\n"
     ]
    }
   ],
   "source": [
    "# First get a list of just the nodes in that class\n",
    "class0 = [n for n in G.nodes() if G.nodes[n]['modularity'] == 0]\n",
    "\n",
    "# Then create a dictionary of the eigenvector centralities of those nodes\n",
    "class0_eigenvector = {n:G.nodes[n]['eigenvector'] for n in class0}\n",
    "\n",
    "# Then sort that dictionary and print the first 5 results\n",
    "class0_sorted_by_eigenvector = sorted(class0_eigenvector.items(), key=itemgetter(1), reverse=True)\n",
    "\n",
    "print(\"Modularity Class 0 Sorted by Eigenvector Centrality:\")\n",
    "for node in class0_sorted_by_eigenvector[:5]:\n",
    "    print(\"Name:\", node[0], \"| Eigenvector Centrality:\", node[1])"
   ]
  },
  {
   "cell_type": "code",
   "execution_count": 40,
   "metadata": {},
   "outputs": [
    {
     "name": "stdout",
     "output_type": "stream",
     "text": [
      "Class 0: ['cd player', 'apple', 'glass', 'crumb', 'water bottle', 'bracelet', 'liquid', 'bottle', 'railing', 'clothes', 'sticky note', 'bar stool', 'cpu', 'heater', 'headphones', 'food', 'milk', 'drawer', 'top', 'leg', 'sports bottle', 'fork', 'wrist pad', 'papers', 'pan']\n",
      "Class 1: ['tube', 'jacket', 'light', 'guy', 'baby', 'wires', 'files', 'ostirch', 'window', 'board', 'charger', 'dish', 'coat', 'folder', 'blinds', 'corkboard', 'bulletin board', 'tower', 'panes', 'bin', 'coffee mug', 'posters', 'bookshelf', 'mouse pad']\n",
      "Class 2: ['cork-board', 'air conditioner', 'printer', 'doll', 'door', 'teddy bear', 'fax machine', 'animal', 'shelf', 'futon', 'keyboard', 'carpet', 'computer tower', 'paper', 'walk sign', 'table top', 'pillow', 'room', 'book', 'lamp', 'computer monitor']\n",
      "Class 3: ['calculator', 'woman', 'picture', 'boy', 'pen', 'drawers', 'juice bottle', 'photograph', 'tape dispenser', 'container', 'white board', 'cd', 'partition', 'hand', 'laptop', 'stapler', 'cable', 'cereal', 'photo', 'hair']\n",
      "Class 4: ['chair', 'plate', 'lint', 'mug', 'building', 'bowl', 'monitor', 'box', 'sun', 'carton', 'clothing', 'mouse', 'cup', 'plant', 'table', 'pot']\n",
      "Class 5: ['tree', 'street', 'van', 'crosswalk', 'parking meter', 'lamp post', 'sign', 'tree trunk', 'car', 'shirt', 'shade', 'bike', 'shoes', 'man', 'sidewalk']\n",
      "Class 6: ['bag', 'wall', 'girl', 'plug', 'computer', 'chain']\n",
      "Class 7: ['filing cabinet', 'pluged', 'outlet', 'telephone', 'wireless phone']\n"
     ]
    }
   ],
   "source": [
    "for i,c in enumerate(communities): # Loop through the list of communities\n",
    "    if len(c) > 2: # Filter out modularity classes with 2 or fewer nodes\n",
    "        print('Class '+str(i)+':', list(c)) # Print out the classes and their members"
   ]
  },
  {
   "cell_type": "code",
   "execution_count": null,
   "metadata": {},
   "outputs": [],
   "source": []
  }
 ],
 "metadata": {
  "kernelspec": {
   "display_name": "Python 3",
   "language": "python",
   "name": "python3"
  },
  "language_info": {
   "codemirror_mode": {
    "name": "ipython",
    "version": 3
   },
   "file_extension": ".py",
   "mimetype": "text/x-python",
   "name": "python",
   "nbconvert_exporter": "python",
   "pygments_lexer": "ipython3",
   "version": "3.8.5"
  }
 },
 "nbformat": 4,
 "nbformat_minor": 4
}
