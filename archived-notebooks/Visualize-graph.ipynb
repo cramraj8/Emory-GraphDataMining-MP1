{
 "cells": [
  {
   "cell_type": "code",
   "execution_count": 29,
   "metadata": {},
   "outputs": [],
   "source": [
    "import json\n",
    "import os\n",
    "import networkx as nx\n",
    "import matplotlib.pyplot as plt\n",
    "import scipy\n",
    "%matplotlib inline"
   ]
  },
  {
   "cell_type": "code",
   "execution_count": 30,
   "metadata": {},
   "outputs": [],
   "source": [
    "SRC_OBJ_FILE = \"../MP1-assignment-PyCharm/VisualGenome-data-VERY-SMALL/objects.json\"\n",
    "SRC_REL_FILE = \"../MP1-assignment-PyCharm/VisualGenome-data-VERY-SMALL/relationships.json\"\n",
    "SRC_OBJ_ALIAS_FILE = \"../MP1-assignment-PyCharm/VisualGenome-data/object_alias.txt\"\n",
    "SRC_REL_ALIAS_FILE = \"../MP1-assignment-PyCharm/VisualGenome-data/relationship_alias.txt\"\n",
    "DEBUG_ = False"
   ]
  },
  {
   "cell_type": "code",
   "execution_count": 31,
   "metadata": {},
   "outputs": [],
   "source": [
    "def construct_object_alias_dict_map():\n",
    "    alias_data = open(SRC_OBJ_ALIAS_FILE, 'r')\n",
    "    output_map = {}\n",
    "    for alias_line in alias_data:\n",
    "        tmp_list = alias_line.split(\",\")\n",
    "        tmp_src = tmp_list[0]\n",
    "        tmp_targets = tmp_list[1:]\n",
    "        for tmp_target in tmp_targets:\n",
    "            output_map[tmp_target] = tmp_src\n",
    "    return output_map"
   ]
  },
  {
   "cell_type": "code",
   "execution_count": 32,
   "metadata": {},
   "outputs": [],
   "source": [
    "def construct_relationships_alias_dict_map():\n",
    "    alias_data = open(SRC_REL_ALIAS_FILE, 'r')\n",
    "    output_map = {}\n",
    "    for alias_line in alias_data:\n",
    "        tmp_list = alias_line.split(\",\")\n",
    "        tmp_src = tmp_list[0]\n",
    "        tmp_targets = tmp_list[1:]\n",
    "        for tmp_target in tmp_targets:\n",
    "            output_map[tmp_target] = tmp_src\n",
    "    return output_map"
   ]
  },
  {
   "cell_type": "code",
   "execution_count": 12,
   "metadata": {
    "scrolled": false
   },
   "outputs": [
    {
     "name": "stdout",
     "output_type": "stream",
     "text": [
      "No. images :  1000\n",
      "No. images :  1000\n"
     ]
    }
   ],
   "source": [
    "G = nx.Graph()\n",
    "\n",
    "object_alias_map = construct_object_alias_dict_map()\n",
    "rel_alias_map = construct_relationships_alias_dict_map()\n",
    "\n",
    "data = json.load(open(SRC_REL_FILE, 'r'))  # 10,000\n",
    "print(\"No. images : \", len(data))\n",
    "for image_idx, image in enumerate(data):\n",
    "    tmp_img_rel = image['relationships']\n",
    "    for rel_idx, rel in enumerate(tmp_img_rel):\n",
    "        # primary types\n",
    "        tmp_rel_id = rel['relationship_id']\n",
    "        tmp_synsets_detailed_rel = rel['synsets']\n",
    "        tmp_predicate = rel['predicate']\n",
    "        tmp_object = rel['object']\n",
    "        tmp_subject = rel['subject']\n",
    "\n",
    "        # object type\n",
    "        tmp_object_id = tmp_object['object_id']\n",
    "        tmp_object_synsets_detailed_obj = tmp_object['synsets']\n",
    "        # tmp_object_merged_object_ids = tmp_object.get('merged_object_ids', \"\")  # maybe linked mention ???\n",
    "        # tmp_object_names = tmp_object['names']  # difference between 'name' and 'names'\n",
    "        if tmp_object.get('names', \"\") != \"\":\n",
    "            tmp_object_names = tmp_object['names']\n",
    "        else:\n",
    "            tmp_object_names = tmp_object['name']\n",
    "        if (type(tmp_object_names) == list) and (len(tmp_object_names) > 1):\n",
    "            print(\"object found as list with len : \", len(tmp_object_names))\n",
    "        elif type(tmp_object_names) == list:\n",
    "            tmp_object_name = tmp_object_names[0]\n",
    "\n",
    "        # subject type\n",
    "        tmp_subject_id = tmp_subject['object_id']\n",
    "        tmp_subject_synsets_detailed_obj = tmp_subject['synsets']  # why sometimes synsets are empty list\n",
    "        if tmp_subject.get('name', \"\") != \"\":\n",
    "            tmp_subject_name = tmp_subject['name']\n",
    "        else:\n",
    "            tmp_subject_name = tmp_subject['names']\n",
    "        if (type(tmp_subject_name) == list) and (len(tmp_subject_name) > 1):\n",
    "            print(\"subject found as list with len : \", len(tmp_subject_name))\n",
    "        elif type(tmp_subject_name) == list:\n",
    "            tmp_subject_name = tmp_subject_name[0]\n",
    "\n",
    "        # Adding nodes to graph\n",
    "        if tmp_subject_name in object_alias_map.keys():\n",
    "            # print(\"Found synonym for object name\")\n",
    "            tmp_subject_name = object_alias_map[tmp_subject_name]\n",
    "        if tmp_object_name in object_alias_map.keys():\n",
    "            # print(\"Found synonym for object name\")\n",
    "            tmp_object_name = object_alias_map[tmp_object_name]\n",
    "        G.add_node(tmp_subject_name, id=tmp_subject_id, synsets=tmp_subject_synsets_detailed_obj)\n",
    "        G.add_node(tmp_object_name, id=tmp_object_id, synsets=tmp_object_synsets_detailed_obj)\n",
    "        # Adding edges to graph : this should actually be a DI-GRAPH\n",
    "        if tmp_predicate in rel_alias_map.keys():\n",
    "            tmp_predicate = rel_alias_map[tmp_predicate]\n",
    "        G.add_edge(tmp_subject_name, tmp_object_name, id=tmp_rel_id, synsets=tmp_synsets_detailed_rel,\n",
    "                       predicate=tmp_predicate)\n",
    "        \n",
    "    if image_idx == 10:\n",
    "        break\n",
    "\n",
    "#         if rel_idx == 0:\n",
    "#             # nx.draw(G, with_labels=True, font_weight='bold')\n",
    "#             nx.draw_networkx(G, pos=nx.spring_layout(G), node_size=100, node_color='r', node_shape='o', alpha=0.5,\n",
    "#                              linewidths=1.0, width=1.0,\n",
    "#                              )\n",
    "#             # plt.savefig(\"sample_image_SceneGraph.svg\")\n",
    "#             plt.show()"
   ]
  },
  {
   "cell_type": "code",
   "execution_count": null,
   "metadata": {},
   "outputs": [],
   "source": [
    "# from pyvis import network as net\n",
    "# # https://pyvis.readthedocs.io/en/latest/\n",
    "\n",
    "# # GNet = net.Network(\"5000px\", \"1200px\", notebook=True, bgcolor=\"#222222\", font_color=\"white\")\n",
    "# GNet = net.Network(\"1000px\", \"1000px\", notebook=False, bgcolor=\"#222222\", font_color=\"white\")\n",
    "\n",
    "# GNet.barnes_hut(gravity=-80000, central_gravity=0.3, \n",
    "#                 spring_length=250, spring_strength=0.001,\n",
    "#                 damping=0.09, overlap=0)\n",
    "\n",
    "# # GNet.enable_physics(False)\n",
    "# print(GNet.options.physics)\n",
    "# GNet.show_buttons(filter_=['nodes', 'edges', 'physics'])\n",
    "\n",
    "# # GNet.toggle_drag_nodes()\n",
    "# # GNet.toggle_physics()\n",
    "# # GNet.toggle_hide_edges_on_drag()\n",
    "# # GNet.toggle_hide_nodes_on_drag()\n",
    "# # GNet.show_buttons(filter_=['nodes', 'edges', 'physics'])\n",
    "\n",
    "# GNet.from_nx(G)\n",
    "\n",
    "# neighbor_map = GNet.get_adj_list()\n",
    "\n",
    "# # add neighbor data to node hover data\n",
    "# for node in GNet.nodes:\n",
    "#     node[\"label\"] += \" Neighbors:<br>\" + \"<br>\".join(neighbor_map[node[\"id\"]])\n",
    "# #     node[\"value\"] = len(neighbor_map[node[\"id\"]])\n",
    "\n",
    "# GNet.show(\"scratch-pyvis-graph.html\")\n",
    "\n",
    "# GNet.nodes"
   ]
  },
  {
   "cell_type": "code",
   "execution_count": 72,
   "metadata": {},
   "outputs": [
    {
     "name": "stdout",
     "output_type": "stream",
     "text": [
      "No. images :  1000\n"
     ]
    }
   ],
   "source": [
    "from pyvis import network as net\n",
    "\n",
    "GNet = net.Network(\"1000px\", \"1000px\", notebook=False, bgcolor=\"#222222\", font_color=\"white\")\n",
    "\n",
    "\n",
    "object_alias_map = construct_object_alias_dict_map()\n",
    "rel_alias_map = construct_relationships_alias_dict_map()\n",
    "\n",
    "data = json.load(open(SRC_REL_FILE, 'r'))  # 10,000\n",
    "print(\"No. images : \", len(data))\n",
    "for image_idx, image in enumerate(data):\n",
    "    tmp_img_rel = image['relationships']\n",
    "    for rel_idx, rel in enumerate(tmp_img_rel):\n",
    "        # primary types\n",
    "        tmp_rel_id = rel['relationship_id']\n",
    "        tmp_synsets_detailed_rel = rel['synsets']\n",
    "        tmp_predicate = rel['predicate']\n",
    "        tmp_object = rel['object']\n",
    "        tmp_subject = rel['subject']\n",
    "\n",
    "        # object type\n",
    "        tmp_object_id = tmp_object['object_id']\n",
    "        tmp_object_synsets_detailed_obj = tmp_object['synsets']\n",
    "        # tmp_object_merged_object_ids = tmp_object.get('merged_object_ids', \"\")  # maybe linked mention ???\n",
    "        # tmp_object_names = tmp_object['names']  # difference between 'name' and 'names'\n",
    "        if tmp_object.get('names', \"\") != \"\":\n",
    "            tmp_object_names = tmp_object['names']\n",
    "        else:\n",
    "            tmp_object_names = tmp_object['name']\n",
    "        if (type(tmp_object_names) == list) and (len(tmp_object_names) > 1):\n",
    "            print(\"object found as list with len : \", len(tmp_object_names))\n",
    "        elif type(tmp_object_names) == list:\n",
    "            tmp_object_name = tmp_object_names[0]\n",
    "\n",
    "        # subject type\n",
    "        tmp_subject_id = tmp_subject['object_id']\n",
    "        tmp_subject_synsets_detailed_obj = tmp_subject['synsets']  # why sometimes synsets are empty list\n",
    "        if tmp_subject.get('name', \"\") != \"\":\n",
    "            tmp_subject_name = tmp_subject['name']\n",
    "        else:\n",
    "            tmp_subject_name = tmp_subject['names']\n",
    "        if (type(tmp_subject_name) == list) and (len(tmp_subject_name) > 1):\n",
    "            print(\"subject found as list with len : \", len(tmp_subject_name))\n",
    "        elif type(tmp_subject_name) == list:\n",
    "            tmp_subject_name = tmp_subject_name[0]\n",
    "\n",
    "        # Adding nodes to graph\n",
    "        if tmp_subject_name in object_alias_map.keys():\n",
    "            # print(\"Found synonym for object name\")\n",
    "            tmp_subject_name = object_alias_map[tmp_subject_name]\n",
    "        if tmp_object_name in object_alias_map.keys():\n",
    "            # print(\"Found synonym for object name\")\n",
    "            tmp_object_name = object_alias_map[tmp_object_name]\n",
    "        # G.add_node(tmp_subject_name, id=tmp_subject_id, synsets=tmp_subject_synsets_detailed_obj)\n",
    "        # G.add_node(tmp_object_name, id=tmp_object_id, synsets=tmp_object_synsets_detailed_obj)\n",
    "        # Adding edges to graph : this should actually be a DI-GRAPH\n",
    "        if tmp_predicate in rel_alias_map.keys():\n",
    "            tmp_predicate = rel_alias_map[tmp_predicate]\n",
    "        # G.add_edge(tmp_subject_name, tmp_object_name, id=tmp_rel_id, synsets=tmp_synsets_detailed_rel,\n",
    "        #                predicate=tmp_predicate)\n",
    "        \n",
    "#         GNet.add_node(tmp_subject_id, label=tmp_subject_name, synsets=tmp_subject_synsets_detailed_obj,\n",
    "#                       title=tmp_subject_name)\n",
    "#         GNet.add_node(tmp_object_id, label=tmp_object_name, synsets=tmp_object_synsets_detailed_obj,\n",
    "#                       title=tmp_object_name)\n",
    "#         GNet.add_edge(tmp_subject_id, tmp_object_id, predicate=tmp_predicate, \n",
    "#                       synsets=tmp_synsets_detailed_rel)\n",
    "        GNet.add_node(tmp_subject_name, label=tmp_subject_name, synsets=tmp_subject_synsets_detailed_obj,\n",
    "                      title=tmp_subject_name, value=0)\n",
    "        GNet.add_node(tmp_object_name, label=tmp_object_name, synsets=tmp_object_synsets_detailed_obj,\n",
    "                      title=tmp_object_name, value=0)\n",
    "        GNet.add_edge(tmp_subject_name, tmp_object_name, predicate=tmp_predicate, \n",
    "                      synsets=tmp_synsets_detailed_rel)\n",
    "        \n",
    "    if image_idx == 10:\n",
    "        break\n",
    "\n",
    "#         if rel_idx == 0:\n",
    "#             # nx.draw(G, with_labels=True, font_weight='bold')\n",
    "#             nx.draw_networkx(G, pos=nx.spring_layout(G), node_size=100, node_color='r', node_shape='o', alpha=0.5,\n",
    "#                              linewidths=1.0, width=1.0,\n",
    "#                              )\n",
    "#             # plt.savefig(\"sample_image_SceneGraph.svg\")\n",
    "#             plt.show()"
   ]
  },
  {
   "cell_type": "markdown",
   "metadata": {},
   "source": [
    "# 2. Visualization"
   ]
  },
  {
   "cell_type": "markdown",
   "metadata": {},
   "source": [
    "## Actual implementation"
   ]
  },
  {
   "cell_type": "code",
   "execution_count": 73,
   "metadata": {},
   "outputs": [],
   "source": [
    "neighbor_map = GNet.get_adj_list()\n",
    "\n",
    "for node in GNet.nodes:\n",
    "    node[\"title\"] += \" Neighbors:<br>\" + \"<br>\".join(neighbor_map[node[\"id\"]])\n",
    "    node[\"value\"] = len(neighbor_map[node[\"id\"]])\n",
    "\n",
    "\n",
    "GNet.barnes_hut(gravity=-80000, central_gravity=0.3, \n",
    "                spring_length=250, spring_strength=0.001,\n",
    "                damping=0.09, overlap=0)\n",
    "\n",
    "GNet.show_buttons(filter_=['nodes', 'edges', 'physics'])\n",
    "\n",
    "GNet.show(\"scratch-pyvis-graph.html\")\n",
    "\n"
   ]
  },
  {
   "cell_type": "code",
   "execution_count": 69,
   "metadata": {},
   "outputs": [],
   "source": [
    "# GNet.nodes"
   ]
  },
  {
   "cell_type": "code",
   "execution_count": null,
   "metadata": {},
   "outputs": [],
   "source": []
  },
  {
   "cell_type": "code",
   "execution_count": null,
   "metadata": {},
   "outputs": [],
   "source": []
  }
 ],
 "metadata": {
  "kernelspec": {
   "display_name": "Python 3",
   "language": "python",
   "name": "python3"
  },
  "language_info": {
   "codemirror_mode": {
    "name": "ipython",
    "version": 3
   },
   "file_extension": ".py",
   "mimetype": "text/x-python",
   "name": "python",
   "nbconvert_exporter": "python",
   "pygments_lexer": "ipython3",
   "version": "3.8.5"
  }
 },
 "nbformat": 4,
 "nbformat_minor": 4
}
